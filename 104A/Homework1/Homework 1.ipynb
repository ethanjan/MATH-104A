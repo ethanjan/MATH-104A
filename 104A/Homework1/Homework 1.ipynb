{
 "cells": [
  {
   "cell_type": "markdown",
   "id": "f27a6f0a-41e8-4c11-92ad-a0f482621103",
   "metadata": {},
   "source": [
    "# Problem 1"
   ]
  },
  {
   "cell_type": "markdown",
   "id": "031a8dc7-a39e-41c9-bb88-e0590398e2e5",
   "metadata": {},
   "source": [
    "First, we review the following theorems:\n",
    "\n",
    "Intermediate Value Theorem:\n",
    "\n",
    "Let the function $f$ be defined on the interval $I = [c,d]$. Let $M$ be the maximum of $f$ on $[c,d]$ and let $m$ be the minimum of $f$ on $[c,d]$. If $y$ is any real number between $m$ and $M$, then there exists some real number $x \\in [c,d]$ such that $f(x) = y$.\n",
    "\n",
    "Mean Value Theorem:\n",
    "Let the function $f$ be continuous on the closed interval $[c,d]$ and differentiable on the open interval $(c,d)$. Then, there exists some point $x \\in (c,d)$ such that $$f^\\prime(x) = \\frac{f(d)-f(c)}{d-c}$$\n",
    "\n",
    "Rolle's Theorem:\n",
    "Let the function $f$ be continuous on the closed interval $[c,d]$ and differentiable on the open interval $(c,d)$. Furthermore, suppose that $f(c) = f(d)$. Then, there exists some point $x \\in (c,d)$ such that $$f^\\prime(x) = 0$$\n",
    "\n",
    "Mean Value Theorem for Integrals:\n",
    "Let the function $f$ be continuous on the closed interval $[c,d]$. Then, there exists some point $a \\in [c,d]$ such that $$f(a) = \\frac{1}{d-c}\\int_c^d f(x) dx$$\n",
    "\n",
    "Weighted Mean Value Theorem for Integrals:\n",
    "Let the functions $f$ and $g$ be continuous on the closed interval $[c,d]$. If $g(x) \\geq 0$ or $g(x) \\leq 0$ for all $x \\in [c,d]$, then there exists some point $a \\in [c,d]$ such that $$ \\int_c^d f(x)g(x) dx = f(a) \\int_c^d g(x) dx$$"
   ]
  },
  {
   "cell_type": "markdown",
   "id": "62435678-7bd8-476f-88b4-b1338c2ab642",
   "metadata": {},
   "source": [
    "# Problem 2"
   ]
  },
  {
   "cell_type": "code",
   "execution_count": 62,
   "id": "d22fe2bb-570c-4d44-a129-d248d6befdbd",
   "metadata": {},
   "outputs": [],
   "source": [
    "#This code implements the composite Trapezoidal rule quadrature. Written by Ethan Martirosyan. Last edited on 10/2/2024.\n",
    "#First, we import the function exp from the math module in order to define the function that we will be approximating\n",
    "from math import exp\n",
    "\n",
    "#The following function actually computes the trapezoid rule.\n",
    "#It takes the inputs a (starting value), b (stopping value), N (number of steps), and f\n",
    "#It outputs the trapezoidal approximation of the function\n",
    "def trapezoid_rule(a,b,N,f):\n",
    "    #We initialize the ans variable\n",
    "    ans = 0\n",
    "    #Now, we define the step size\n",
    "    h = (b-a)/N\n",
    "    #Here we take the sum of f(x_1) + ... + f(x_n-1) and add it to the ans variable \n",
    "    for x in range(1,N):\n",
    "        ans += f(a + h * x)\n",
    "    #Now we add (1/2)f(a) and (1/2)f(b) to the sum. Notice that it would be unwieldy to do this in the for loop.    \n",
    "    ans += (1/2)*f(a)\n",
    "    ans += (1/2)*f(b)\n",
    "    #Now we multiply by h to obtain the final answer\n",
    "    ans = h * ans\n",
    "    #Return the final answer\n",
    "    return ans\n",
    "\n"
   ]
  },
  {
   "cell_type": "markdown",
   "id": "76a7730f-7830-4376-aba9-a5febf0b203e",
   "metadata": {},
   "source": [
    "# Problem 3"
   ]
  },
  {
   "cell_type": "code",
   "execution_count": 75,
   "id": "91e72a16-b02d-4df6-979b-945fb801886a",
   "metadata": {},
   "outputs": [
    {
     "name": "stdout",
     "output_type": "stream",
     "text": [
      "10 steps: 0.8650898321786331\n",
      "20 steps: 0.8606306634063897\n",
      "40 steps: 0.8595135096608248\n"
     ]
    }
   ],
   "source": [
    "#Here we define the function in the problem statement\n",
    "def func(val):\n",
    "    return (val) * exp((val)**2)\n",
    "\n",
    "#We print the approximations for various values of N\n",
    "#Print the approximation for N = 10 (or h = 1/10)\n",
    "print(\"10 steps:\", trapezoid_rule(0,1,10,func))\n",
    "#Print the approximation for N=20 (or h = 1/20)\n",
    "print(\"20 steps:\", trapezoid_rule(0,1,20,func))\n",
    "#Print the approximation for N = 40 (or h = 1/40)\n",
    "print(\"40 steps:\", trapezoid_rule(0,1,40,func))"
   ]
  },
  {
   "cell_type": "markdown",
   "id": "7b736e6b-4e0e-435c-8b57-af4183203708",
   "metadata": {},
   "source": [
    "First, we note that $\\int_0^1 xe^{x^2} dx = \\frac{e-1}{2} \\approx 0.85914091422952$.\n",
    "\n",
    "Let us compare the difference between our approximation $T_h[f]$ and the actual value $I[f]$ for different values of $h$. \n",
    "\n",
    "For $h = 1/10$, we have $T_{1/10}[f] = 0.8650898321786331$. \n",
    "\n",
    "For $h = 1/20$, we have $T_{1/20}[f] = 0.8606306634063897$. \n",
    "\n",
    "For $h = 1/40$, we have $T_{1/40}[f] = 0.8595135096608248$.\n",
    "\n",
    "Now, we compute the differences: \n",
    "$$\\vert I[f] - T_{1/10}[f] \\vert = \\vert 0.85914091422952 - 0.8650898321786331 \\vert = 0.0059489179491131$$\n",
    "$$\\vert I[f] - T_{1/20}[f] \\vert = \\vert 0.85914091422952 - 0.8606306634063897 \\vert = 0.0014897491768697$$\n",
    "$$\\vert I[f] - T_{1/40}[f] \\vert = \\vert 0.85914091422952 - 0.8595135096608248\\vert =  0.0003725954313048$$\n",
    "Notice that\n",
    "$$ \\frac{\\vert I[f] - T_{1/10}[f] \\vert}{\\vert I[f] - T_{1/20}[f] \\vert} = \\frac{0.0059489179491131}{0.0014897491768697} \\approx 3.993234 \\approx 4$$\n",
    "$$ \\frac{\\vert I[f] - T_{1/20}[f] \\vert}{\\vert I[f] - T_{1/40}[f] \\vert} = \\frac{0.0014897491768697}{0.0003725954313048} \\approx 3.9983 \\approx 4$$ This confirms the quadratic rate of decay of the error."
   ]
  },
  {
   "cell_type": "markdown",
   "id": "43a38fc4-3948-48ca-bc87-a58f3414d521",
   "metadata": {},
   "source": [
    "# Problem 4"
   ]
  },
  {
   "cell_type": "code",
   "execution_count": 66,
   "id": "41ccde96-d52d-4522-9fe4-f1ac785e49dd",
   "metadata": {},
   "outputs": [
    {
     "name": "stdout",
     "output_type": "stream",
     "text": [
      "The desired value of h is 0.0009765625\n",
      "At this value of h, we find that q(h) is 3.9999999088625047\n"
     ]
    }
   ],
   "source": [
    "from math import exp\n",
    "#This is the function that we are trying to approximate for problem 4\n",
    "def func2(val):\n",
    "    return exp(-1*(val**2))\n",
    "#This computes the trapezoidal rule again except we use h instead of N this time\n",
    "def trapezoid_rule_2(a,b,h,f):\n",
    "    #define the final answer that will be returned\n",
    "    ans = 0\n",
    "    #add (1/2)f(a) and (1/2)f(b) to this answer\n",
    "    ans = ans + (1/2)*f(a) + (1/2)*f(b)\n",
    "    #define the counter that will be used to sum f(x_1) + ... + f(x_n-1)\n",
    "    count = 1\n",
    "    #sums up f(x_1) + ... + f(x_n-1)\n",
    "    while a+count*h < b:\n",
    "        ans = ans + f(a+count*h)\n",
    "        count+=1\n",
    "    #make sure to mulitply the answer by h\n",
    "    ans = ans * h\n",
    "    #return the answer\n",
    "    return ans\n",
    "#computes the ratio q(h)\n",
    "def q(h):\n",
    "    return (trapezoid_rule_2(0,1,h/2,func2) - trapezoid_rule_2(0,1,h,func2))/(trapezoid_rule_2(0,1,h/4,func2) - trapezoid_rule_2(0,1,h/2,func2))\n",
    "#Now, we wish to find a value of h such that q(h) is close to 4\n",
    "#To start, set the value of h to 1\n",
    "h = 1\n",
    "#Keep dividing h by 2 until q(h) is close to 4\n",
    "while abs(q(h) - 4) > 0.0000001:\n",
    "    h /= 2\n",
    "#Now we print out this value of h\n",
    "print(\"The desired value of h is\", h)\n",
    "#We also print out the corresponding value of q(h)\n",
    "print(\"At this value of h, we find that q(h) is\", q(h))\n"
   ]
  },
  {
   "cell_type": "markdown",
   "id": "5cb9577c-e12c-4479-9240-122c2595a5f9",
   "metadata": {},
   "source": [
    "Now, we will obtain an approximation of the error $I[e^{-x^2}] - T_h[e^{-x^2}]$. \n",
    "According to the notes from class, we know that a good approximation of the error is as follows:\n",
    "$$\\frac{4}{3} [T_{h/2}[f] - T_h[f]]$$"
   ]
  },
  {
   "cell_type": "code",
   "execution_count": 68,
   "id": "2c874ebc-d59b-4ce9-ae50-cc873cc72dbe",
   "metadata": {},
   "outputs": [
    {
     "name": "stdout",
     "output_type": "stream",
     "text": [
      "The approximate error is 5.847286432825172e-08\n",
      "The approximate value of the integral is 0.7468241328124272\n"
     ]
    }
   ],
   "source": [
    "#Compute the error\n",
    "error = (4/3)*(trapezoid_rule_2(0,1,h/2,func2)-trapezoid_rule_2(0,1,h,func2))\n",
    "#Print out this error\n",
    "print(\"The approximate error is\", error)\n",
    "#Compute the approximate answer by adding the error to our estimate\n",
    "approx_answer = trapezoid_rule_2(0,1,h,func2) + error\n",
    "print(\"The approximate value of the integral is\", approx_answer)"
   ]
  },
  {
   "cell_type": "markdown",
   "id": "f9cb5e11-7827-4492-ba72-4984b264b562",
   "metadata": {},
   "source": [
    "$S_h(f)$"
   ]
  },
  {
   "cell_type": "markdown",
   "id": "bfc60efb-fc53-43c8-b558-7a127a7899fa",
   "metadata": {},
   "source": [
    "The reason why $$S_h[e^{-x^2}] = T_h[e^{-x^2}] + \\frac{4}{3} (T_{h/2}[e^{-x^2}] - T_h[e^{-x^2}])$$ is a better approximation than $$T_h[e^{-x^2}]$$ is because we are adding the approximate error in the form of $$\\frac{4}{3} (T_{h/2}[e^{-x^2}] - T_h[e^{-x^2}])$$ Furthermore, we know that $S_h[e^{-x^2}]$ converges to the actual value of the integral faster than $T_h[e^{-x^2}]$ because $$I[f] - T_h[f]$$ is $O(h^2)$ whereas $$I[f] - S_h[f]$$ is $o(h^2)$ (or $O(h^4)$))."
   ]
  },
  {
   "cell_type": "code",
   "execution_count": null,
   "id": "14521ee6-f94b-4596-aa43-41efae8c60a9",
   "metadata": {},
   "outputs": [],
   "source": []
  }
 ],
 "metadata": {
  "kernelspec": {
   "display_name": "Python 3 (ipykernel)",
   "language": "python",
   "name": "python3"
  },
  "language_info": {
   "codemirror_mode": {
    "name": "ipython",
    "version": 3
   },
   "file_extension": ".py",
   "mimetype": "text/x-python",
   "name": "python",
   "nbconvert_exporter": "python",
   "pygments_lexer": "ipython3",
   "version": "3.12.4"
  }
 },
 "nbformat": 4,
 "nbformat_minor": 5
}

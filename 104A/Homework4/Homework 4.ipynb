{
 "cells": [
  {
   "cell_type": "markdown",
   "id": "148758b1-3102-49a2-b9d2-52d79e922bf4",
   "metadata": {},
   "source": [
    "# Problem 1"
   ]
  },
  {
   "cell_type": "code",
   "execution_count": 14,
   "id": "3cab05de-7ee8-49f0-a5b1-b8a5c0b96ebe",
   "metadata": {},
   "outputs": [],
   "source": [
    "import math\n",
    "import numpy as np\n",
    "\n",
    "#given x values, return the h values\n",
    "def findhvals(xvals):\n",
    "    #create hvals matrix to return values\n",
    "    hvals = np.array([])\n",
    "    #loop through values in xvals\n",
    "    for i in range(0,len(xvals)-1):\n",
    "        #append the values to hvals\n",
    "        hvals = np.append(hvals,xvals[i+1]-xvals[i])\n",
    "    #return the h values\n",
    "    return hvals\n",
    "\n",
    "#given x values, find the tri-diagonal matrix\n",
    "def findTriDiagonal(xvals):\n",
    "    #get h values\n",
    "    hvals = findhvals(xvals)\n",
    "    #initialize the tri Diagonal matrix\n",
    "    triDiagonal = np.zeros((len(xvals)-2,len(xvals)-2))\n",
    "    #loop through rows of tri Diagonal matrix\n",
    "    for row in range(0,len(xvals)-2):\n",
    "        #loop through columns of tri Diagonal matrix\n",
    "        for col in range(0,len(xvals)-2):\n",
    "            #assign values to diagonal\n",
    "            if row == col:\n",
    "                triDiagonal[row, col] = 2*(hvals[row]+hvals[row+1])\n",
    "            #assign values to subdiagonal\n",
    "            if row == col+1:\n",
    "                triDiagonal[row,col] = hvals[row]\n",
    "            #assign values to super diagonal\n",
    "            if col == row+1:\n",
    "                triDiagonal[row,col] = hvals[row+1]\n",
    "    #return tri Diagonal matrix\n",
    "    return triDiagonal\n",
    "\n",
    "#find the coefficient matrix\n",
    "def findcoeff(xvals,yvals):\n",
    "    #get h values\n",
    "    hvals = findhvals(xvals)\n",
    "    #create the coefficient matrix\n",
    "    coeff = np.zeros(len(xvals)-2)\n",
    "    #fill the coefficient matrix with the correct values\n",
    "    for i in range(0,len(xvals)-2):\n",
    "        coeff[i] = -6/hvals[i]*(yvals[i+1]-yvals[i]) + 6/hvals[i+1]*(yvals[i+2]-yvals[i+1])\n",
    "    #return the coefficient matrix\n",
    "    return coeff\n",
    "\n",
    "#find the z values\n",
    "def findzvals(xvals,yvals):\n",
    "    #initialize zvals to be an array of zeros\n",
    "    zvals = np.zeros(len(xvals))\n",
    "    #multiplying the inverse of the tridiagonal matrix by the vector\n",
    "    zvals[1:len(xvals)-1] = np.matmul(np.linalg.inv(findTriDiagonal(xvals)),findcoeff(xvals,yvals))\n",
    "    #return the zvals array\n",
    "    return zvals\n",
    "\n",
    "#find avalues\n",
    "def findavals(xvals,yvals):\n",
    "    #initialize avals to be an array of zeros\n",
    "    avals = np.zeros(len(xvals)-1)\n",
    "    #find the z values\n",
    "    zvals = findzvals(xvals,yvals)\n",
    "    #find the h values\n",
    "    hvals = findhvals(xvals)\n",
    "    \n",
    "    #loop through the xvals\n",
    "    for i in range(0,len(xvals)-1):\n",
    "        #compute a_i\n",
    "        avals[i] = 1/(6*hvals[i])*(zvals[i+1]-zvals[i])\n",
    "\n",
    "    #return the array avals\n",
    "    return avals\n",
    "\n",
    "#find bvalues\n",
    "def findbvals(xvals,yvals):\n",
    "    #initialize bvals to be an array of zeros\n",
    "    bvals = np.zeros(len(xvals)-1)\n",
    "    #find the z values\n",
    "    zvals = findzvals(xvals,yvals)\n",
    "    \n",
    "    #loop through the xvals\n",
    "    for i in range(0,len(xvals)-1):\n",
    "        #compute b_i\n",
    "        bvals[i] = zvals[i]/2\n",
    "\n",
    "    #return the array bvals\n",
    "    return bvals\n",
    "\n",
    "#find cvalues\n",
    "def findcvals(xvals,yvals):\n",
    "    #initialize cvals to be an array of zeros\n",
    "    cvals = np.zeros(len(xvals)-1)\n",
    "    #find the z values\n",
    "    zvals = findzvals(xvals,yvals)\n",
    "    #find the h values\n",
    "    hvals = findhvals(xvals)\n",
    "    \n",
    "    #loop through the xvals\n",
    "    for i in range(0,len(xvals)-1):\n",
    "        #compute c_i\n",
    "        cvals[i] = (1/hvals[i])*(yvals[i+1]-yvals[i]) - (hvals[i]/6)*(zvals[i+1]+2*zvals[i])\n",
    "\n",
    "    #return the array cvals\n",
    "    return cvals\n",
    "\n",
    "#find dvalues\n",
    "def finddvals(xvals,yvals):\n",
    "    #initialize dvals to be an array of zeros\n",
    "    dvals = np.zeros(len(xvals)-1)\n",
    "    #loop through the xvals\n",
    "    for i in range(0,len(xvals)-1):\n",
    "        #compute d_i\n",
    "        dvals[i] = yvals[i]\n",
    "    #return the array dvals\n",
    "    return dvals"
   ]
  },
  {
   "cell_type": "code",
   "execution_count": 15,
   "id": "c083b0ee-b9ed-422c-8ec0-7dcf6780eeca",
   "metadata": {},
   "outputs": [
    {
     "name": "stdout",
     "output_type": "stream",
     "text": [
      "Testing findhvals\n",
      "[1. 1. 2.]\n",
      "Testing findTriDiagonal\n",
      "[[4. 1.]\n",
      " [1. 6.]]\n",
      "Testing findcoeff\n",
      "[-6.  3.]\n",
      "Testing findzvals\n",
      "[ 0.         -1.69565217  0.7826087   0.        ]\n",
      "Testing findavals\n",
      "[-0.2826087   0.41304348 -0.06521739]\n",
      "Testing findbvals\n",
      "[ 0.         -0.84782609  0.39130435]\n",
      "Testing findcvals\n",
      "[2.2826087  1.43478261 0.97826087]\n",
      "Testing finddvals\n",
      "[0. 2. 3.]\n"
     ]
    }
   ],
   "source": [
    "#Testing the findhvals function\n",
    "print('Testing findhvals')\n",
    "#the result should be [1,1,2]\n",
    "print(findhvals([0,1,2,4]))\n",
    "\n",
    "#Testing the findTriDiagonal function\n",
    "print('Testing findTriDiagonal')\n",
    "#the result should be [[4,1],[1 6]]\n",
    "print(findTriDiagonal([0,1,2,4]))\n",
    "\n",
    "#Testing the findcoeff function\n",
    "print('Testing findcoeff')\n",
    "#the result should be [-6 3]\n",
    "print(findcoeff([0,1,2,4],[0,2,3,6]))\n",
    "\n",
    "#Testing the findzvals function\n",
    "print('Testing findzvals')\n",
    "#the result should be [0,-1.6956,0.7826,0]\n",
    "print(findzvals([0,1,2,4],[0,2,3,6]))\n",
    "\n",
    "#Testing the findavals function\n",
    "print('Testing findavals')\n",
    "#the result should be [-0.2826,0.4130,-0.06521]\n",
    "print(findavals([0,1,2,4],[0,2,3,6]))\n",
    "\n",
    "#Testing the findbvals function\n",
    "print('Testing findbvals')\n",
    "#the result should be [0,-0.8478,0.3913]\n",
    "print(findbvals([0,1,2,4],[0,2,3,6]))\n",
    "\n",
    "#Testing the findcvals function\n",
    "print('Testing findcvals')\n",
    "#the result should be [2.2826,1.4347,0.9782]\n",
    "print(findcvals([0,1,2,4],[0,2,3,6]))\n",
    "\n",
    "#Testing the finddvals function\n",
    "print('Testing finddvals')\n",
    "#the result should be [0,2,3]\n",
    "print(finddvals([0,1,2,4],[0,2,3,6]))"
   ]
  },
  {
   "cell_type": "markdown",
   "id": "ca4971f6-6753-48d0-83c6-05cea16133ed",
   "metadata": {},
   "source": [
    "# Problem 2"
   ]
  },
  {
   "cell_type": "code",
   "execution_count": 17,
   "id": "fd9830aa-fb3a-4822-adde-2a93de35a04e",
   "metadata": {},
   "outputs": [
    {
     "data": {
      "image/png": "[encoded data removed]",
      "text/plain": [
       "<Figure size 640x480 with 1 Axes>"
      ]
     },
     "metadata": {},
     "output_type": "display_data"
    }
   ],
   "source": [
    "import matplotlib.pyplot as plt\n",
    "#define the tvals vector\n",
    "tvals = np.array([0,0.618,0.935,1.255,1.636,1.905,2.317,2.827,3.330])\n",
    "\n",
    "#define the xvals vector\n",
    "xvals = np.array([1.50,0.90,0.60,0.35,0.20,0.10,0.50,1.00,1.50])\n",
    "\n",
    "#define the yvals vector\n",
    "yvals = [0.75,0.90,1.00,0.80,0.45,0.20,0.10,0.20,0.25]\n",
    "\n",
    "#find the coefficients for the spline interpolation with tvals and xvals\n",
    "a1 = findavals(tvals,xvals)\n",
    "b1 = findbvals(tvals,xvals)\n",
    "c1 = findcvals(tvals,xvals)\n",
    "d1 = finddvals(tvals,xvals)\n",
    "\n",
    "#find the coefficients for the spline interpolation with tvals and yvals\n",
    "a2 = findavals(tvals,yvals)\n",
    "b2 = findbvals(tvals,yvals)\n",
    "c2 = findcvals(tvals,yvals)\n",
    "d2 = finddvals(tvals,yvals)\n",
    "\n",
    "#find the x,y coordinates for plotting\n",
    "#first, create t vector\n",
    "tcoords = np.arange(0,3.330,0.001)\n",
    "\n",
    "#next create the x coordinates vector\n",
    "xcoords = np.array([])\n",
    "#also create the y coordinates vector\n",
    "ycoords = np.array([])\n",
    "\n",
    "#iterate through all the t values\n",
    "for num in tcoords:\n",
    "    #iterate through all the intervals\n",
    "    for i in range(0,len(tvals)-1):\n",
    "        #if t is in between t_i and t_i+1\n",
    "        if num >= tvals[i] and num <= tvals[i+1]:\n",
    "            #find the x and y interpolations\n",
    "            xcoords = np.append(xcoords, a1[i]*(num-tvals[i])**3+b1[i]*(num-tvals[i])**2+c1[i]*(num-tvals[i])+d1[i])\n",
    "            ycoords = np.append(ycoords, a2[i]*(num-tvals[i])**3+b2[i]*(num-tvals[i])**2+c2[i]*(num-tvals[i])+d2[i])\n",
    "\n",
    "#plot the graph\n",
    "plt.plot(xcoords,ycoords)\n",
    "plt.show()"
   ]
  },
  {
   "cell_type": "markdown",
   "id": "e34c0f32-4758-48a3-bfad-a91889e19123",
   "metadata": {},
   "source": [
    "finding the $a$ values for the $x$ interpolation:"
   ]
  },
  {
   "cell_type": "code",
   "execution_count": 19,
   "id": "4b64039c-7c9d-4e9d-9786-ffc9189ee1a5",
   "metadata": {},
   "outputs": [
    {
     "name": "stdout",
     "output_type": "stream",
     "text": [
      "a values for x interpolation\n",
      "[ 0.01053694  0.10210253  0.98716733 -1.77354871  5.39456796 -3.39333331\n",
      "  0.670643   -0.14744175]\n"
     ]
    }
   ],
   "source": [
    "print('a values for x interpolation')\n",
    "print(a1)"
   ]
  },
  {
   "cell_type": "markdown",
   "id": "3cc312e4-e609-45af-a018-ca87f89ccd31",
   "metadata": {},
   "source": [
    "finding the $b$ values for the $x$ interpolation:"
   ]
  },
  {
   "cell_type": "code",
   "execution_count": 21,
   "id": "10658d00-bc09-439e-af2b-695fb3084c2b",
   "metadata": {},
   "outputs": [
    {
     "name": "stdout",
     "output_type": "stream",
     "text": [
      "b values for x interpolation\n",
      "[ 0.          0.01953548  0.11663499  1.06431562 -0.96285056  3.39056579\n",
      " -0.80359419  0.2224896 ]\n"
     ]
    }
   ],
   "source": [
    "print('b values for x interpolation')\n",
    "print(b1)"
   ]
  },
  {
   "cell_type": "markdown",
   "id": "2d2935ac-509d-4f01-81fa-617d63eca877",
   "metadata": {},
   "source": [
    "finding the $c$ values for the $x$ interpolation:"
   ]
  },
  {
   "cell_type": "code",
   "execution_count": 23,
   "id": "8f47bb0e-6e38-4ce9-97bb-3e6520db1a60",
   "metadata": {},
   "outputs": [
    {
     "name": "stdout",
     "output_type": "stream",
     "text": [
      "c values for x interpolation\n",
      "[-0.9748981  -0.96282517 -0.91965913 -0.54175494 -0.50309674  0.14995865\n",
      "  1.21579095  0.91942761]\n"
     ]
    }
   ],
   "source": [
    "print('c values for x interpolation')\n",
    "print(c1)"
   ]
  },
  {
   "cell_type": "markdown",
   "id": "9d44bd44-d89d-4484-967c-66698e6de2f2",
   "metadata": {},
   "source": [
    "finding the $d$ values for the $x$ interpolation:"
   ]
  },
  {
   "cell_type": "code",
   "execution_count": 25,
   "id": "29b00d94-bf57-4187-8f4d-045ab9580df6",
   "metadata": {},
   "outputs": [
    {
     "name": "stdout",
     "output_type": "stream",
     "text": [
      "d values for x interpolation\n",
      "[1.5  0.9  0.6  0.35 0.2  0.1  0.5  1.  ]\n"
     ]
    }
   ],
   "source": [
    "print('d values for x interpolation')\n",
    "print(d1)"
   ]
  },
  {
   "cell_type": "markdown",
   "id": "99e23b3c-af85-42ba-8fbb-8b9a2dc2c2a1",
   "metadata": {},
   "source": [
    "finding the $a$ values for the $y$ interpolation:"
   ]
  },
  {
   "cell_type": "code",
   "execution_count": 27,
   "id": "ad74be89-050c-4b3a-918f-4955d43a1c4f",
   "metadata": {},
   "outputs": [
    {
     "name": "stdout",
     "output_type": "stream",
     "text": [
      "a values for y interpolation\n",
      "[ 0.2769437  -3.00101226  2.43045042 -0.2731872   2.17389553 -0.78439737\n",
      " -0.47422633  0.17248333]\n"
     ]
    }
   ],
   "source": [
    "print('a values for y interpolation')\n",
    "print(a2)"
   ]
  },
  {
   "cell_type": "markdown",
   "id": "cde9a1e5-07be-4983-aeb9-a2bf49d470f3",
   "metadata": {},
   "source": [
    "finding the $b$ values for the $y$ interpolation:"
   ]
  },
  {
   "cell_type": "code",
   "execution_count": 29,
   "id": "18aebebe-70da-4bb5-967a-29ad9c6e3088",
   "metadata": {},
   "outputs": [
    {
     "name": "stdout",
     "output_type": "stream",
     "text": [
      "b values for y interpolation\n",
      "[ 0.          0.51345362 -2.34050904 -0.00727664 -0.3195296   1.43480409\n",
      "  0.46528894 -0.26027735]\n"
     ]
    }
   ],
   "source": [
    "print('b values for y interpolation')\n",
    "print(b2)"
   ]
  },
  {
   "cell_type": "markdown",
   "id": "65ee3aa1-7395-49bb-be0b-2aef801e9b01",
   "metadata": {},
   "source": [
    "finding the $c$ values for the $y$ interpolation:"
   ]
  },
  {
   "cell_type": "code",
   "execution_count": 31,
   "id": "14da1529-b88c-44ef-8a3c-8378513fccdf",
   "metadata": {},
   "outputs": [
    {
     "name": "stdout",
     "output_type": "stream",
     "text": [
      "c values for y interpolation\n",
      "[ 0.136947    0.45426134 -0.12491523 -0.87620665 -1.00071982 -0.70071098\n",
      "  0.08212734  0.18668325]\n"
     ]
    }
   ],
   "source": [
    "print('c values for y interpolation')\n",
    "print(c2)"
   ]
  },
  {
   "cell_type": "markdown",
   "id": "f70e7b8c-01ec-47b1-b627-3b6ad9e58110",
   "metadata": {},
   "source": [
    "finding the $d$ values for the $y$ interpolation:"
   ]
  },
  {
   "cell_type": "code",
   "execution_count": 33,
   "id": "2efeb0e3-f3ae-4a71-8eb1-f255346b1dda",
   "metadata": {},
   "outputs": [
    {
     "name": "stdout",
     "output_type": "stream",
     "text": [
      "d values for y interpolation\n",
      "[0.75 0.9  1.   0.8  0.45 0.2  0.1  0.2 ]\n"
     ]
    }
   ],
   "source": [
    "print('d values for y interpolation')\n",
    "print(d2)"
   ]
  }
 ],
 "metadata": {
  "kernelspec": {
   "display_name": "Python 3 (ipykernel)",
   "language": "python",
   "name": "python3"
  },
  "language_info": {
   "codemirror_mode": {
    "name": "ipython",
    "version": 3
   },
   "file_extension": ".py",
   "mimetype": "text/x-python",
   "name": "python",
   "nbconvert_exporter": "python",
   "pygments_lexer": "ipython3",
   "version": "3.12.4"
  }
 },
 "nbformat": 4,
 "nbformat_minor": 5
}

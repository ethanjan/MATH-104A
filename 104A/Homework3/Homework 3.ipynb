{
 "cells": [
  {
   "cell_type": "markdown",
   "id": "5287bbbd-e51b-4ee9-baf1-747732817ac7",
   "metadata": {},
   "source": [
    "# Problem 1"
   ]
  },
  {
   "cell_type": "markdown",
   "id": "454c801b-0158-4641-8084-9e5adf31bfbe",
   "metadata": {},
   "source": [
    "# Part A\n",
    "In class, we proved that for any $x \\in [x_0,x_1]$, there exists some point $\\eta(x) \\in (x_0,x_1)$ such that\n",
    "$$\n",
    "f(x) - P_1(x) = \\frac{1}{2} f^{\\prime\\prime}(\\eta(x))(x-x_0)(x-x_1)\n",
    "$$ Taking absolute values, we obtain\n",
    "$$\n",
    "\\vert f(x) - P_1(x) \\vert = \\frac{1}{2} \\vert f^{\\prime\\prime}(\\eta(x))\\vert (x-x_0)(x_1 - x) \n",
    "$$ By the AM-GM inequality, we know that\n",
    "$$\n",
    "ab \\leq \\bigg(\\frac{a+b}{2}\\bigg)^2\n",
    "$$ Let $a = x-x_0$ and $b = x_1 - x$. Applying the AM-GM inequality, we obtain\n",
    "$$\n",
    "(x-x_0)(x_1 - x)  \\leq \\bigg(\\frac{x-x_0+x_1-x}{2}\\bigg)^2 = \\frac{(x_1-x_0)^2}{4}\n",
    "$$ Substitution then yields\n",
    "$$\n",
    "\\vert f(x) - P_1(x) \\vert \\leq \\frac{1}{2} \\vert f^{\\prime\\prime}(\\eta(x))\\vert \\cdot \\frac{(x_1-x_0)^2}{4} = \\frac{1}{8} \\cdot \\vert f^{\\prime\\prime}(\\eta(x))\\vert \\cdot (x_1-x_0)^2\n",
    "$$ Let us choose $M_2 > 0$ such that \n",
    "$$\n",
    "\\max_{x \\in [x_0,x_1]}  \\vert f^{\\prime\\prime}(x) \\vert \\leq M_2\n",
    "$$ We know that we can do this because $f \\in C^2([x_0,x_1])$ (that is, $f^{\\prime\\prime}$ is continuous on $[x_0,x_1]$). Then, we have\n",
    "$$\n",
    "\\vert f(x) - P_1(x) \\vert \\leq \\frac{1}{8} \\cdot M_2 \\cdot (x_1-x_0)^2\n",
    "$$ for all $x \\in [x_0,x_1]$ so that\n",
    "$$\n",
    "\\Vert f - P_1 \\Vert_\\infty \\leq \\frac{1}{8} (x_1-x_0)^2 M_2 \n",
    "$$"
   ]
  },
  {
   "cell_type": "markdown",
   "id": "a438b51b-c7f1-4edf-be70-3dbe5dd192e7",
   "metadata": {},
   "source": [
    "# Part B\n",
    "The polynomial interpolation is\n",
    "$$\n",
    "P_1(x) = \\sin(0) + \\frac{\\sin(\\pi/2) - \\sin(0)}{\\pi/2 - 0}(x-0) = 0 + \\frac{1 - 0}{\\pi/2 - 0}(x-0) = \\frac{2}{\\pi}x\n",
    "$$ First, we compute the error bound from Part A. To compute this error bound, we need to know a bound for the second derivative of $\\sin(x)$ on the interval $[0,\\pi/2]$. We know that the second derivative of $\\sin(x)$ is $-\\sin(x)$ and that its absolute value is bounded by $1$ on the interval $[0,\\pi/2]$. Using this, we obtain\n",
    "$$\n",
    "\\Vert f - P_1 \\Vert_\\infty \\leq \\frac{1}{8}(\\pi/2 - 0)^2 \\cdot 1 = \\frac{1}{8}\\cdot \\frac{\\pi^2}{4} = \\frac{1}{32} \\pi^2 \\approx 0.308\n",
    "$$  Next, we compute the exact error at $x = \\pi/4$:\n",
    "$$\n",
    "\\vert P_1(\\pi/4) - \\sin(\\pi/4) \\vert = \\bigg\\vert \\frac{2}{\\pi} \\cdot \\frac{\\pi}{4} - \\frac{\\sqrt{2}}{2} \\bigg \\vert = \\bigg \\vert \\frac{1}{2} - \\frac{\\sqrt{2}}{2} \\bigg \\vert =  \\bigg \\vert \\frac{1-\\sqrt{2}}{2} \\bigg \\vert =\\frac{\\sqrt{2} - 1}{2} \\approx 0.207\n",
    "$$ Thus, we notice that the actual error is smaller than the estimated error."
   ]
  },
  {
   "cell_type": "markdown",
   "id": "5d1c7295-8847-45ac-8cd8-635ac9c366c7",
   "metadata": {},
   "source": [
    "# Problem 2\n"
   ]
  },
  {
   "cell_type": "markdown",
   "id": "5b5ccb2d-c660-42ab-b799-db305d46722f",
   "metadata": {},
   "source": [
    "# Part A\n",
    "By Newton's divided difference, we know that\n",
    "$$\n",
    "P_n(x) = f[x_0] + f[x_0,x_1](x-x_0) + f[x_0,x_1,x_2](x-x_0)(x-x_1) + \\cdots + f[x_0,\\ldots,x_n](x-x_0)\\cdots(x-x_{n-1})\n",
    "$$ The leading coefficient of this polynomial is $f[x_0,\\ldots,x_n]$.\n",
    "\n",
    "Next, we appeal to the Lagrange interpolation. We have\n",
    "$$\n",
    "P_n(x) = \\sum_{j=0}^n f(x_j) \\ell_j(x)\n",
    "$$ where\n",
    "$$\n",
    "\\ell_j(x) = \\frac{ \\prod_{k \\neq j} (x-x_k)}{ \\prod_{k \\neq j} (x_j-x_k)}\n",
    "$$ The leading coefficient of each $\\ell_j(x)$ is\n",
    "$$\n",
    "\\frac{1}{ \\prod_{k \\neq j}(x_j - x_k)}\n",
    "$$ In order to find the leading coefficient of $P_n(x)$, we need to add the leading coefficient of each term\n",
    "$$\n",
    "f(x_j)\\ell_j(x)\n",
    "$$\n",
    "Thus, we find that the leading coefficient of $P_n(x)$ is\n",
    "$$\n",
    "\\sum_{j=0}^n \\frac{f(x_j)}{\\prod_{k \\neq j} (x_j - x_k)}\n",
    "$$ Since the polynomial interpolation is unique, we may equate the leading coefficients to obtain\n",
    "$$\n",
    "f[x_0,\\ldots,x_n] = \\sum_{j=0}^n \\frac{f(x_j)}{\\prod_{k \\neq j} (x_j - x_k)}\n",
    "$$"
   ]
  },
  {
   "cell_type": "markdown",
   "id": "ac845d38-8423-4701-8d84-85dc551ab415",
   "metadata": {},
   "source": [
    "# Part B\n",
    "Let $\\pi: \\{0,1,\\ldots,n\\} \\rightarrow \\{0,1,\\ldots,n\\}$ be a permutation. We claim that\n",
    "$$\n",
    "f[x_{\\pi(0)},x_{\\pi(1)},\\ldots,x_{\\pi(n)}] = f[x_0,x_1,\\ldots,x_n]\n",
    "$$ By Part A, we have\n",
    "$$\n",
    "f[x_{\\pi(0)},x_{\\pi(1)},\\ldots,x_{\\pi(n)}] = \\sum_{j=0}^n \\frac{f(x_{\\pi(j)})}{\\prod_{k \\neq \\pi(j)} (x_{\\pi(j)} - x_k)}\n",
    "$$ Because $\\pi$ is a permutation, we know that $\\pi(\\{0,1,\\ldots,n\\}) = \\{0,1,\\ldots,n\\}$. Thus, by rearranging terms in the above sum, we obtain\n",
    "$$\n",
    "\\sum_{j=0}^n \\frac{f(x_{\\pi(j)})}{\\prod_{k \\neq \\pi(j)} (x_{\\pi(j)} - x_k)} = \\sum_{j=0}^n \\frac{f(x_j)}{\\prod_{k \\neq j} (x_j - x_k)}\n",
    "$$ Thus, we may deduce that\n",
    "$$\n",
    "f[x_{\\pi(0)},x_{\\pi(1)},\\ldots,x_{\\pi(n)}] = f[x_0,x_1,\\ldots,x_n]\n",
    "$$ which shows that the divided difference does not change under the permutation of $x_0,x_1,\\ldots,x_n$."
   ]
  },
  {
   "cell_type": "markdown",
   "id": "47125139-b42d-4410-8835-b0114a66a832",
   "metadata": {},
   "source": [
    "# Problem 3"
   ]
  },
  {
   "cell_type": "markdown",
   "id": "4b14664a-4696-4af6-a08f-0841696fb75e",
   "metadata": {},
   "source": [
    "# Part A"
   ]
  },
  {
   "cell_type": "code",
   "execution_count": 25,
   "id": "e6ee4329-e902-452f-9705-a485fb01757d",
   "metadata": {},
   "outputs": [
    {
     "name": "stdout",
     "output_type": "stream",
     "text": [
      "Testing the c values function\n",
      "[1, 0.0, -1.0]\n",
      "Testing the horner method\n",
      "-1.0\n"
     ]
    }
   ],
   "source": [
    "#Define the function to return the c values. It takes an array of x values\n",
    "#and an array of f values as inputs.\n",
    "def findcvals(xvals,fvals):\n",
    "    #define the variable that we will be returning\n",
    "    cvals = []\n",
    "    #Add all of the f values to the cvals array\n",
    "    for num in fvals:\n",
    "        cvals.append(num)\n",
    "    #Next, we ensure that all of the c values are actually correct\n",
    "    #To do this, we use two nested for loops\n",
    "    #First for loop goes from x_1 to x_n\n",
    "    for k in range(1,len(xvals)):\n",
    "        #Second for loop goes from x_n to x_k\n",
    "        for j in range(len(xvals)-1,k-1,-1):\n",
    "            #compute the appropriate c value\n",
    "            cvals[j] = (cvals[j] - cvals[j-1])/(xvals[j] - xvals[j-k])\n",
    "    #return the c values\n",
    "    return cvals\n",
    "\n",
    "#Here we test the function to make sure it finds the appropriate c values\n",
    "#We use the x values and function values from the last homework. The x values\n",
    "#are [0,1,3] and the f values are [1,1,-5]\n",
    "#The output should be [1,0,-1]\n",
    "print(\"Testing the c values function\")\n",
    "print(findcvals([0,1,3],[1,1,-5]))\n",
    "\n",
    "\n",
    "#Now, we must implement the Horner scheme. It will take in the x values, the c values, and the point at which\n",
    "#the function is to be evaluated. It outputs the interpolation polynomial evaluated at that point.\n",
    "def horner(xvals,cvals,point):\n",
    "    #define the final answer to be c_n\n",
    "    ans = cvals[len(cvals)-1]\n",
    "    #start the for loop for the Horner method.\n",
    "    for j in range(len(cvals)-1,0,-1):\n",
    "        #do the necessary computations\n",
    "        ans = cvals[j-1] + (point - xvals[j-1])*ans\n",
    "    #return the final answer\n",
    "    return ans\n",
    "\n",
    "\n",
    "#Test the horner scheme with the x values [0,1,3] and the c values [1,0,-1] at the point x = 2\n",
    "#The result should be -1\n",
    "print(\"Testing the horner method\")\n",
    "print(horner([0,1,3],findcvals([0,1,3],[1,1,-5]),2))"
   ]
  },
  {
   "cell_type": "markdown",
   "id": "a392bf09-d3ab-41a6-9ec2-13984a6c5ed8",
   "metadata": {},
   "source": [
    "# Part B"
   ]
  },
  {
   "cell_type": "code",
   "execution_count": 27,
   "id": "5ed8c479-e234-49f3-bbd3-3156f5c5f4cf",
   "metadata": {},
   "outputs": [
    {
     "data": {
      "image/png": "[encoded data removed]",
      "text/plain": [
       "<Figure size 640x480 with 1 Axes>"
      ]
     },
     "metadata": {},
     "output_type": "display_data"
    }
   ],
   "source": [
    "#We import math for the exponential function\n",
    "import math\n",
    "#We import plot so that we can create a plot\n",
    "import matplotlib.pyplot as plt\n",
    "#Now, we define the function that we will be attempting to approximate. It will take in a point as an input\n",
    "#and it will output the function evaluated at that point\n",
    "def normalDist(x):\n",
    "    return math.exp(-1*x**2)\n",
    "\n",
    "#define the array containing all of the x values\n",
    "xvalues = []\n",
    "\n",
    "#fill the array with the values x_j = -1 + j(2/10) for j = 0,1,...10\n",
    "for j in range(0,11):\n",
    "    xvalues.append(-1+j*(1/5))\n",
    "\n",
    "#define the array containing all of the f values\n",
    "fvalues = []\n",
    "\n",
    "#fill the array with the corresponding f values\n",
    "for num in xvalues:\n",
    "    fvalues.append(normalDist(num))\n",
    "\n",
    "#define the array that will contain all of the c values\n",
    "cvalues = findcvals(xvalues,fvalues)\n",
    "\n",
    "#define the new x values that will be used for plotting the error\n",
    "xplot = []\n",
    "\n",
    "#fill the array with the values x_j = -1 + j(2/100) for j = 0,1,...,100\n",
    "for j in range(0,101):\n",
    "    xplot.append(-1+j*(2/100))\n",
    "\n",
    "#define the y values that will be used for plotting the error\n",
    "yplot = []\n",
    "\n",
    "#fill the array with the corresponding y values of the error\n",
    "for num in xplot:\n",
    "    yplot.append(normalDist(num) - horner(xvalues,cvalues,num))\n",
    "\n",
    "#plot the error\n",
    "plt.plot(xplot, yplot, 'b')\n",
    "\n",
    "#label the x-axis\n",
    "plt.xlabel(\"x values\")\n",
    "\n",
    "#label the y-axis\n",
    "plt.ylabel(\"error\")\n",
    "\n",
    "#make the title\n",
    "plt.title(\"Error of The Polynomial Interpolation Using Uniform Nodes\")\n",
    "\n",
    "#make the legend\n",
    "plt.legend(['f(x)-p(x)'])\n",
    "\n",
    "#show the plot\n",
    "plt.show()"
   ]
  },
  {
   "cell_type": "markdown",
   "id": "1d0efa62-d6cc-4742-93a5-48d3de6684a5",
   "metadata": {},
   "source": [
    "Although the error is small, we can see large oscillations near the endpoints. This is likely because we are using uniform nodes instead of Chebyshev Nodes."
   ]
  },
  {
   "cell_type": "markdown",
   "id": "faa4a193-591a-4bb3-9f8f-c8576e7c278e",
   "metadata": {},
   "source": [
    "# Problem 4\n",
    "From the problem statement, we know that\n",
    "$$\n",
    "P_1(0) = x_0 - y_0f^{-1}[y_0,y_1] = x_0 - y_0 \\cdot \\frac{f^{-1}(y_1) - f^{-1}(y_0)}{y_1-y_0} = x_0 - y_0 \\cdot \\frac{x_1 - x_0}{y_1 - y_0}\n",
    "$$  The problem statement also informs us that $x_0 = 0.5$, $x_1 = 0.6$, $y_0 = -0.106530659712633$, and $y_1 = 0.051188363905973$. Making the necessary substitutions, we obtain\n",
    "$$\n",
    "P_1(0) = 0.5 - (-0.106530659712633) \\cdot \\frac{0.6-0.5}{0.051188363905973 - (-0.106530659712633)} \\approx 0.5675\n",
    "$$\n"
   ]
  },
  {
   "cell_type": "markdown",
   "id": "9505c94c-6657-4397-bb7b-4936f2e8cdeb",
   "metadata": {},
   "source": [
    "# Problem 5\n",
    "The Hermite interpolation polynomial is of the form\n",
    "$$\n",
    "P_3(x) = f[0] + f[0,0](x-0) + f[0,0,1](x-0)(x-0) + f[0,0,1,1](x-0)(x-0)(x-1)\n",
    "$$ We must compute the coefficients. First, the problem tells us that\n",
    "$$\n",
    "f[0] = f(0) = 0\n",
    "$$ Next, we note that\n",
    "$$\n",
    "f[0,0] = f^{\\prime}(0) = 0\n",
    "$$ Now, we want to compute\n",
    "$$\n",
    "f[0,0,1] = \\frac{f[0,1] - f[0,0]}{1-0}\n",
    "$$ To do this, we must compute $f[0,1]$:\n",
    "$$\n",
    "f[0,1] = \\frac{f(1) - f(0)}{1-0} = \\frac{2-0}{1-0} = 2\n",
    "$$ Now, we find that\n",
    "$$\n",
    "f[0,0,1] = \\frac{f[0,1] - f[0,0]}{1-0} = \\frac{2-0}{1} = 2\n",
    "$$ Finally, we must compute\n",
    "$$\n",
    "f[0,0,1,1] = \\frac{f[0,1,1] - f[0,0,1]}{1-0}\n",
    "$$ To do this, we need $f[0,1,1]$:\n",
    "$$\n",
    "f[0,1,1] = \\frac{f[1,1] - f[0,1]}{1- 0}\n",
    "$$ We note that\n",
    "$$\n",
    "f[1,1] = f^\\prime(1) = 3\n",
    "$$ so that\n",
    "$$\n",
    "f[0,1,1] = \\frac{f[1,1] - f[0,1]}{1- 0} = \\frac{3 - 2}{1-0} = 1\n",
    "$$ and finally\n",
    "$$\n",
    "f[0,0,1,1] = \\frac{f[0,1,1] - f[0,0,1]}{1-0} = \\frac{1-2}{1-0} = -1\n",
    "$$ Putting all this together, we find that\n",
    "$$\n",
    "P_3(x) = 0 + 0(x-0) +  2(x-0)(x-0) - (x-0)(x-0)(x-1) = 3x^2-x^3\n",
    "$$"
   ]
  }
 ],
 "metadata": {
  "kernelspec": {
   "display_name": "Python 3 (ipykernel)",
   "language": "python",
   "name": "python3"
  },
  "language_info": {
   "codemirror_mode": {
    "name": "ipython",
    "version": 3
   },
   "file_extension": ".py",
   "mimetype": "text/x-python",
   "name": "python",
   "nbconvert_exporter": "python",
   "pygments_lexer": "ipython3",
   "version": "3.12.4"
  }
 },
 "nbformat": 4,
 "nbformat_minor": 5
}
